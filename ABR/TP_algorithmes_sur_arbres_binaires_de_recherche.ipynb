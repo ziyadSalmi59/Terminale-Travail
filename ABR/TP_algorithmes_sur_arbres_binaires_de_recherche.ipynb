{
 "cells": [
  {
   "cell_type": "markdown",
   "id": "583b5bcf",
   "metadata": {},
   "source": [
    "# TP algorithmes sur les arbres binaires de recherche\n",
    "\n",
    "## Travail préparatoire\n",
    "\n",
    "1. Télécharger depuis github dans votre dossier personnel les fichiers `TP_algorithme_sur_arbres_binaires_de_recherche.ipynb` et `visualisation_arbre.py` (module nécessaire pour le TP)\n",
    "\n",
    "* Toutes les réponses à apporter au TP devront être faites dans le fichier `TP_algorithme_sur_arbres_binaires_de_recherche.ipynb` et il devra être redéposé dans votre github.\n",
    "\n",
    "* Dans ce TP :\n",
    "    * On utilisera la classe `ABR` ci-dessous munies de cinq **méthodes** (plus la **méthode spéciale** `__repr__`, servant uniquement en cas de debugage)\n",
    "    * On choisit de représenter un arbre vide par `None`\n",
    "    * On a aussi deux **fonctions** `parcours_infixe` et `est_vide` qui portent bien leur nom...\n",
    "\n",
    "\n",
    "* **Aucune modification n'est demandée sur toutes ces méthodes et fonctions !!**\n",
    "\n",
    "* **Compléter ce notebook et, pour le rendre, sauvegarder-le dans votre github**"
   ]
  },
  {
   "cell_type": "code",
   "execution_count": null,
   "id": "19940b72",
   "metadata": {},
   "outputs": [],
   "source": [
    "from visualisation_arbre import *\n",
    "\n",
    "class ABR:\n",
    "    def __init__(self, valeur, gauche, droit):\n",
    "        self.valeur = valeur\n",
    "        self.gauche = gauche\n",
    "        self.droit = droit\n",
    "    \n",
    "    def get_data(self):\n",
    "        return self.valeur\n",
    "    \n",
    "    def get_SAG(self):\n",
    "        return self.gauche\n",
    "    \n",
    "    def get_SAD(self):\n",
    "        return self.droit\n",
    "    \n",
    "    def set_SAG(self, arbre):\n",
    "        self.gauche = arbre\n",
    "    \n",
    "    def set_SAD(self, arbre):\n",
    "        self.droit = arbre\n",
    "        \n",
    "    def __repr__(self):\n",
    "        chaine = ''\n",
    "        for val in parcours_infixe(self):\n",
    "            chaine += str(val) + ' ' \n",
    "        return chaine\n",
    "\n",
    "def est_vide(abr):\n",
    "    return abr is None      \n",
    "    \n",
    "def parcours_infixe(arbre):\n",
    "    def parcours_infixe2(arbre, liste):\n",
    "        if est_vide(arbre):\n",
    "            liste = []\n",
    "            return\n",
    "\n",
    "        gauche = arbre.get_SAG()\n",
    "        if not(est_vide(gauche)):\n",
    "            parcours_infixe2(gauche, liste)\n",
    "\n",
    "        liste.append(arbre.get_data())\n",
    "\n",
    "        droit = arbre.get_SAD()    \n",
    "        if not(est_vide(droit)):\n",
    "            parcours_infixe2(droit, liste)\n",
    "    \n",
    "    l = []\n",
    "    parcours_infixe2(arbre, l)\n",
    "    return l"
   ]
  },
  {
   "cell_type": "markdown",
   "id": "267969e6",
   "metadata": {},
   "source": [
    "2. Donner succintement le rôle des méthodes `get_data`, `get_SAG`, `get_SAD`, `set_SAG` et `set_SAD`. Pour chacune d'elle, préciser si elle renvoie un résultat (et son type) et/ou si elle modifie l'arbre."
   ]
  },
  {
   "cell_type": "markdown",
   "id": "17d661bc",
   "metadata": {},
   "source": [
    "* `get_data` : \n",
    "* `get_SAG` : \n",
    "* `get_SAD` : \n",
    "* `set_SAG`: \n",
    "* `set_SAD`: "
   ]
  },
  {
   "cell_type": "markdown",
   "id": "86e20323",
   "metadata": {},
   "source": [
    "> **Attention pour toute la suite du TP :** Ces cinq méthodes constituent l'**interface** par lequel on manipule l'arbre. Dans toutes les fonctions que vous devrez écrire dans ce TP, il faudra se servir de cette interface ainsi que des deux fonctions `parcours_infixe` et `est_vide`. **IL EST DONC INTERDIT DE MANIPULER DIRECTEMENT LES ATTRIBUTS DE L'ARBRE**\n",
    "\n",
    "3. Construire l'ABR appelé $A$ ci-dessous :\n",
    "\n",
    "![click droit pour afficher l'image](img/Exemple_arbre_binaire_de_recherche.png)"
   ]
  },
  {
   "cell_type": "code",
   "execution_count": null,
   "id": "72c456be",
   "metadata": {},
   "outputs": [],
   "source": [
    "# Ecrire votre code python ici"
   ]
  },
  {
   "cell_type": "markdown",
   "id": "aa0077c9",
   "metadata": {},
   "source": [
    "5. Afficher cet arbre pour vérifier votre code en exécutant la cellule ci-dessous"
   ]
  },
  {
   "cell_type": "code",
   "execution_count": null,
   "id": "cf9584a2",
   "metadata": {},
   "outputs": [],
   "source": [
    "show_tree(A)"
   ]
  },
  {
   "cell_type": "markdown",
   "id": "643227d4",
   "metadata": {},
   "source": [
    "## Partie 1\n",
    "\n",
    "1. A l'aide des explications sur la recherche et l'ajout d'une valeur dans un ABR données dans le cours `algorithmes sur les arbres binaires`, écrire le code python de deux **fonctions** :\n",
    "* La fonction `recherche` qui :\n",
    "    * prend en paramètres un ABR et une valeur\n",
    "    * renvoie `True` si cette valeur est dans l'arbre et `False` sinon\n",
    "* La fonction `ajout` qui : \n",
    "    * prend en paramètres un ABR et une valeur\n",
    "    * renvoie un nouvel ABR dans lequel la valeur a été insérée."
   ]
  },
  {
   "cell_type": "code",
   "execution_count": null,
   "id": "dd587612",
   "metadata": {},
   "outputs": [],
   "source": [
    "# Ecrire votre code python ici"
   ]
  },
  {
   "cell_type": "markdown",
   "id": "1e8d038e",
   "metadata": {},
   "source": [
    "2. Ecrire quelques appels permettant de vérifier le bon fontionnement de ces deux fonctions. Pour cela, écrire :\n",
    "\n",
    "* Au moins un appel qui permet de rechercher une valeur qui se trouve effectivement dans $A$\n",
    "* Au moins un appel qui permet de rechercher une valeur qui ne se trouve pas dans $A$\n",
    "* Au moins un appel qui permet d'ajouter une valeur dans un arbre vide\n",
    "* Au moins un appel qui permet d'ajouter une valeur dans $A$. Le nouvel arbre obtenu doit toujours être un ABR !!\n",
    "* Au moins un appel qui permet d'ajouter une valeur déjà présente dans $A$. Le nouvel arbre obtenu doit toujours être un ABR !!"
   ]
  },
  {
   "cell_type": "code",
   "execution_count": null,
   "id": "9baf4596",
   "metadata": {},
   "outputs": [],
   "source": [
    "# Ecrire votre code python ici\n",
    "\n",
    "# Au moins un appel qui permet de rechercher une valeur qui se trouve effectivement dans A\n",
    "\n",
    "\n",
    "# Au moins un appel qui permet de rechercher une valeur qui ne se trouve pas dans A\n",
    "\n",
    "\n",
    "# Au moins un appel qui permet d'ajouter une valeur dans un arbre vide\n",
    "\n",
    "\n",
    "# Au moins un appel qui permet d'ajouter une valeur dans A. Le nouvel arbre obtenu doit toujours être un ABR !!\n",
    "\n",
    "\n",
    "# Au moins un appel qui permet d'ajouter une valeur déjà présente dans A. \n",
    "#Le nouvel arbre obtenu doit toujours être un ABR \n"
   ]
  },
  {
   "cell_type": "markdown",
   "id": "be24f6bc",
   "metadata": {},
   "source": [
    "3. Ecrire le code d'une fonction `ajout_si_non_present` (**sans utiliser la fonction `recherche`**)qui : \n",
    "    * prend en paramètres un ABR et une valeur\n",
    "    * renvoie un nouvel ABR dans lequel la valeur a été insérée uniquement si la valeur n'appartient pas à l'arbre.\n",
    "    * renvoie un ABR identique si la valeur appartient déjà à l'arbre"
   ]
  },
  {
   "cell_type": "code",
   "execution_count": null,
   "id": "9fc3e6e2",
   "metadata": {},
   "outputs": [],
   "source": [
    "# Ecrire votre code python ici"
   ]
  },
  {
   "cell_type": "markdown",
   "id": "015be6bf",
   "metadata": {},
   "source": [
    "**Exécuter à nouveau la cellule qui génère l'arbre $A$ avant de passer à cette question**\n",
    "\n",
    "4. Ecrire quelques appels permettant de vérifier le bon fontionnement de `ajoute_si_non_present`. Pour cela écrire :\n",
    "* Au moins un appel qui permet d'ajouter une valeur dans un arbre vide\n",
    "* Au moins un appel qui permet d'ajouter une valeur dans $A$ non déjà présente. Le nouvel arbre obtenu doit toujours être un ABR !!\n",
    "* Au moins un appel qui permet d'ajouter une valeur déjà présente dans $A$. Le nouvel arbre obtenu doit toujours être un ABR !!"
   ]
  },
  {
   "cell_type": "code",
   "execution_count": null,
   "id": "2b783414",
   "metadata": {},
   "outputs": [],
   "source": [
    "# Ecrire votre code python ici\n",
    "\n",
    "# Au moins un appel qui permet d'ajouter une valeur dans un arbre vide\n",
    "\n",
    "\n",
    "# Au moins un appel qui permet d'ajouter une valeur non déjà présente dans A. \n",
    "# Le nouvel arbre obtenu doit toujours être un ABR !!\n",
    "\n",
    "\n",
    "# Au moins un appel qui permet d'ajouter une valeur déjà présente dans A. \n",
    "#Le nouvel arbre obtenu doit toujours être un ABR !!"
   ]
  },
  {
   "cell_type": "markdown",
   "id": "4d4f9921",
   "metadata": {},
   "source": [
    "## Partie 2\n",
    "\n",
    "1. Rappeler le résultat remarquable vu en dans `bloc5/TD_algorithmes_de_parcours_des_arbres_binaires` lorsqu'on fait un parcours infixe sur un arbre binaire **de recherche**. Ce résultat sera utile pour la suite..."
   ]
  },
  {
   "cell_type": "markdown",
   "id": "2667b89e",
   "metadata": {},
   "source": [
    "Le parcours infixe permet de parcourir les noeuds d'un ABR selon leurs valeurs croissantes"
   ]
  },
  {
   "cell_type": "markdown",
   "id": "e729d7dd",
   "metadata": {},
   "source": [
    "2. Compléter le code des fonctions ci-dessous après avoir lu leur documentation. **Attention :**\n",
    "\n",
    "* Traiter les fonctions **dans l'ordre**\n",
    "* Bien réfléchir à une stratégie ou un pseudo-code **avant** d'écrire le code pyhton !!"
   ]
  },
  {
   "cell_type": "code",
   "execution_count": null,
   "id": "4475ba79",
   "metadata": {},
   "outputs": [],
   "source": [
    "def construit_ABR(liste_valeurs):\n",
    "    '''\n",
    "    Rôle de la fonction : construit un ABR à partir de valeurs fournies dans une liste\n",
    "    liste_valeurs (type list) : liste contenant les valeurs qui devront composer l'ABR\n",
    "    return (type ABR) : ABR construit avec cette liste de valeurs\n",
    "    Conseil : Utiliser la fonction `ajoute`\n",
    "    '''\n",
    "    # A compléter\n",
    "\n",
    "    \n",
    "def minimum(abr):\n",
    "    '''\n",
    "    Rôle de la fonction : renvoie la valeur minimale d'un ABR\n",
    "    abr (type ABR) : un ABR\n",
    "    return (même type que les noeuds de l'arbre) : valeur minimale de l'arbre\n",
    "    Précondition : # A compléter et à tenir compte dans le code\n",
    "    Consignes : interdiction d'utiliser la fonction `parcours_infixe`\n",
    "    '''\n",
    "    # A compléter\n",
    "\n",
    "\n",
    "def maximum(abr):\n",
    "    '''\n",
    "    Rôle de la fonction : renvoie la valeur maximale d'un ABR\n",
    "    abr (type ABR) : un ABR\n",
    "    return (même type que les noeuds de l'arbre) : valeur maximale de l'arbre\n",
    "    Précondition : # A compléter et à tenir compte dans le code\n",
    "    Consignes : obligation tion d'utiliser la fonction `parcours_infixe`\n",
    "    '''\n",
    "    # A compléter\n",
    "\n",
    "    \n",
    "def est_ABR(arbre):\n",
    "    '''\n",
    "    Rôle de la fonction : détermine si un arbre binaire est un arbre binaire de recherche\n",
    "    arbre (type ABR) : un arbre binaire\n",
    "    return (type bool) : True si l'arbre binaire est un ABR, False sinon\n",
    "    Conseil : Utiliser la fonction parcours_infixe\n",
    "    '''\n",
    "    # A compléter\n",
    "\n",
    "    \n",
    "def tri(liste):\n",
    "    '''\n",
    "    Rôle de la fonction : trie une liste de valeur\n",
    "    liste (list) : liste à trier contenant des entiers, des réels ou des chaînes de caractères\n",
    "    return (list) : liste triée\n",
    "    Conseil : Utiliser la structure d'ABR et la fonction parcours_infixe\n",
    "    '''\n",
    "    # A compléter"
   ]
  },
  {
   "cell_type": "markdown",
   "id": "4aae792a",
   "metadata": {},
   "source": [
    "3. Ecrire les appels qui permettent d'afficher la valeur maximale et minimale contenu dans $A$"
   ]
  },
  {
   "cell_type": "code",
   "execution_count": null,
   "id": "b6302602",
   "metadata": {},
   "outputs": [],
   "source": [
    "# Ecrire votre code python ici"
   ]
  },
  {
   "cell_type": "markdown",
   "id": "0cef8b52",
   "metadata": {},
   "source": [
    "4. Ecrire les appels qui permettent d'afficher la valeur maximale et minimale contenu dans un arbre vide. Quel résultat obtenez-vous ? Pourquoi ? Est-ce le comportement attendu ?"
   ]
  },
  {
   "cell_type": "code",
   "execution_count": null,
   "id": "6a9d4010",
   "metadata": {},
   "outputs": [],
   "source": [
    "# Ecrire votre code python ici\n",
    "\n",
    "# Ecrire les réponses à la question ici"
   ]
  },
  {
   "cell_type": "code",
   "execution_count": null,
   "id": "9f5297f0",
   "metadata": {},
   "outputs": [],
   "source": [
    "# Ecrire votre code python ici\n",
    "\n",
    "# Ecrire les réponses à la question ici"
   ]
  },
  {
   "cell_type": "markdown",
   "id": "233edca7",
   "metadata": {},
   "source": [
    "5. Ecrire les lignes de code permettant de construire l'arbre $A1$ ci-dessous. Donner une raison pour laquelle cet arbre n'est pas un ABR.\n",
    "\n",
    "![click droit pour afficher l'image](img/arbre_non_abr.png)"
   ]
  },
  {
   "cell_type": "code",
   "execution_count": null,
   "id": "85d5350a",
   "metadata": {},
   "outputs": [],
   "source": [
    "# Ecrire votre code python ici\n",
    "\n",
    "# Ecrire les réponses à la question ici"
   ]
  },
  {
   "cell_type": "markdown",
   "id": "398d504e",
   "metadata": {},
   "source": [
    "6. A l'aide des arbres $A$ et $A1$, écrire les lignes de code permettant de tester la fonction `est_ABR`"
   ]
  },
  {
   "cell_type": "code",
   "execution_count": null,
   "id": "894443ff",
   "metadata": {},
   "outputs": [],
   "source": [
    "# Ecrire votre code python ici"
   ]
  },
  {
   "cell_type": "markdown",
   "id": "95f6a445",
   "metadata": {},
   "source": [
    "7. A l'aide de la fonction `construit_ABR`, créer les arbres $A2$ et $A3$, à partir de leurs listes respectives de valeurs `[6, 8, 4, 5, 2, 9]` et `[4, 9, 6, 2, 5, 8]`. Puis demander à python de vérifier que ces arbres sont bien des ABR."
   ]
  },
  {
   "cell_type": "code",
   "execution_count": null,
   "id": "f75df58a",
   "metadata": {},
   "outputs": [],
   "source": [
    "# Ecrire votre code python ici"
   ]
  },
  {
   "cell_type": "markdown",
   "id": "60921872",
   "metadata": {},
   "source": [
    "8. Vrai ou faux : un ABR possédant un ensemble de noeuds donnés est nécessairement unique. **Justifier votre réponse** à l'aide de la question précédente."
   ]
  },
  {
   "cell_type": "markdown",
   "id": "37a9c3da",
   "metadata": {},
   "source": []
  }
 ],
 "metadata": {
  "kernelspec": {
   "display_name": "Python 3",
   "language": "python",
   "name": "python3"
  },
  "language_info": {
   "codemirror_mode": {
    "name": "ipython",
    "version": 3
   },
   "file_extension": ".py",
   "mimetype": "text/x-python",
   "name": "python",
   "nbconvert_exporter": "python",
   "pygments_lexer": "ipython3",
   "version": "3.7.2"
  }
 },
 "nbformat": 4,
 "nbformat_minor": 5
}
